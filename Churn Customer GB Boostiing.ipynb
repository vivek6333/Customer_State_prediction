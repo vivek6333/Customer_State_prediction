{
 "cells": [
  {
   "cell_type": "code",
   "execution_count": 1,
   "metadata": {},
   "outputs": [],
   "source": [
    "import pandas as pd\n",
    "import numpy as np\n",
    "import matplotlib.pyplot as plt\n",
    "%matplotlib inline\n",
    "import seaborn as sns\n",
    "import warnings\n",
    "warnings.filterwarnings('ignore')\n",
    "from sklearn.model_selection import train_test_split\n",
    "import plotly.express as px\n",
    "import xgboost"
   ]
  },
  {
   "cell_type": "code",
   "execution_count": 2,
   "metadata": {},
   "outputs": [
    {
     "name": "stdout",
     "output_type": "stream",
     "text": [
      "C:\\Users\\ComProWorld\\Desktop\\b7\\Churn Customer Classification Project\n"
     ]
    }
   ],
   "source": [
    "cd C:\\Users\\ComProWorld\\Desktop\\b7\\Churn Customer Classification Project\n"
   ]
  },
  {
   "cell_type": "code",
   "execution_count": 3,
   "metadata": {},
   "outputs": [
    {
     "data": {
      "text/html": [
       "<div>\n",
       "<style scoped>\n",
       "    .dataframe tbody tr th:only-of-type {\n",
       "        vertical-align: middle;\n",
       "    }\n",
       "\n",
       "    .dataframe tbody tr th {\n",
       "        vertical-align: top;\n",
       "    }\n",
       "\n",
       "    .dataframe thead th {\n",
       "        text-align: right;\n",
       "    }\n",
       "</style>\n",
       "<table border=\"1\" class=\"dataframe\">\n",
       "  <thead>\n",
       "    <tr style=\"text-align: right;\">\n",
       "      <th></th>\n",
       "      <th>CIF</th>\n",
       "      <th>CUS_DOB</th>\n",
       "      <th>AGE</th>\n",
       "      <th>CUS_Month_Income</th>\n",
       "      <th>CUS_Gender</th>\n",
       "      <th>CUS_Marital_Status</th>\n",
       "      <th>CUS_Customer_Since</th>\n",
       "      <th>YEARS_WITH_US</th>\n",
       "      <th># total debit transactions for S1</th>\n",
       "      <th># total debit transactions for S2</th>\n",
       "      <th>...</th>\n",
       "      <th>total credit amount for S2</th>\n",
       "      <th>total credit amount for S3</th>\n",
       "      <th>total debit amount</th>\n",
       "      <th>total debit transactions</th>\n",
       "      <th>total credit amount</th>\n",
       "      <th>total credit transactions</th>\n",
       "      <th>total transactions</th>\n",
       "      <th>CUS_Target</th>\n",
       "      <th>TAR_Desc</th>\n",
       "      <th>Status</th>\n",
       "    </tr>\n",
       "  </thead>\n",
       "  <tbody>\n",
       "    <tr>\n",
       "      <th>0</th>\n",
       "      <td>XXXXXX</td>\n",
       "      <td>Feb 13 1970 12:00AM</td>\n",
       "      <td>49</td>\n",
       "      <td>7116.64</td>\n",
       "      <td>MALE</td>\n",
       "      <td>MARRIED</td>\n",
       "      <td>1994-06-30</td>\n",
       "      <td>25</td>\n",
       "      <td>277</td>\n",
       "      <td>265</td>\n",
       "      <td>...</td>\n",
       "      <td>1764079.61</td>\n",
       "      <td>2378592.62</td>\n",
       "      <td>4758311.63</td>\n",
       "      <td>887</td>\n",
       "      <td>5659653.33</td>\n",
       "      <td>65</td>\n",
       "      <td>952</td>\n",
       "      <td>2231</td>\n",
       "      <td>EXECUTIVE</td>\n",
       "      <td>ACTIVE</td>\n",
       "    </tr>\n",
       "    <tr>\n",
       "      <th>1</th>\n",
       "      <td>XXXXXX</td>\n",
       "      <td>Sep 20 1973 12:00AM</td>\n",
       "      <td>46</td>\n",
       "      <td>1500000.00</td>\n",
       "      <td>FEMALE</td>\n",
       "      <td>SINGLE</td>\n",
       "      <td>2005-05-19</td>\n",
       "      <td>14</td>\n",
       "      <td>37</td>\n",
       "      <td>15</td>\n",
       "      <td>...</td>\n",
       "      <td>19500.00</td>\n",
       "      <td>57500.00</td>\n",
       "      <td>139363.22</td>\n",
       "      <td>97</td>\n",
       "      <td>87000.00</td>\n",
       "      <td>10</td>\n",
       "      <td>107</td>\n",
       "      <td>2223</td>\n",
       "      <td>LOW</td>\n",
       "      <td>ACTIVE</td>\n",
       "    </tr>\n",
       "    <tr>\n",
       "      <th>2</th>\n",
       "      <td>XXXXXX</td>\n",
       "      <td>Jul 18 1966 12:00AM</td>\n",
       "      <td>53</td>\n",
       "      <td>5000000.00</td>\n",
       "      <td>FEMALE</td>\n",
       "      <td>SINGLE</td>\n",
       "      <td>2005-05-20</td>\n",
       "      <td>14</td>\n",
       "      <td>31</td>\n",
       "      <td>14</td>\n",
       "      <td>...</td>\n",
       "      <td>240311.84</td>\n",
       "      <td>70946.86</td>\n",
       "      <td>37375.46</td>\n",
       "      <td>53</td>\n",
       "      <td>1020883.70</td>\n",
       "      <td>27</td>\n",
       "      <td>80</td>\n",
       "      <td>2222</td>\n",
       "      <td>MIDLE</td>\n",
       "      <td>ACTIVE</td>\n",
       "    </tr>\n",
       "    <tr>\n",
       "      <th>3</th>\n",
       "      <td>XXXXXX</td>\n",
       "      <td>Jan  9 2004 12:00AM</td>\n",
       "      <td>15</td>\n",
       "      <td>500.00</td>\n",
       "      <td>FEMALE</td>\n",
       "      <td>SINGLE</td>\n",
       "      <td>2005-05-20</td>\n",
       "      <td>14</td>\n",
       "      <td>0</td>\n",
       "      <td>1</td>\n",
       "      <td>...</td>\n",
       "      <td>28089.99</td>\n",
       "      <td>18753.92</td>\n",
       "      <td>4000.00</td>\n",
       "      <td>1</td>\n",
       "      <td>76946.96</td>\n",
       "      <td>12</td>\n",
       "      <td>13</td>\n",
       "      <td>2223</td>\n",
       "      <td>LOW</td>\n",
       "      <td>ACTIVE</td>\n",
       "    </tr>\n",
       "    <tr>\n",
       "      <th>4</th>\n",
       "      <td>XXXXXX</td>\n",
       "      <td>Mar  7 1971 12:00AM</td>\n",
       "      <td>48</td>\n",
       "      <td>9000000.00</td>\n",
       "      <td>FEMALE</td>\n",
       "      <td>SINGLE</td>\n",
       "      <td>2014-06-30</td>\n",
       "      <td>5</td>\n",
       "      <td>15</td>\n",
       "      <td>33</td>\n",
       "      <td>...</td>\n",
       "      <td>176000.00</td>\n",
       "      <td>70500.00</td>\n",
       "      <td>338470.29</td>\n",
       "      <td>60</td>\n",
       "      <td>442100.00</td>\n",
       "      <td>21</td>\n",
       "      <td>81</td>\n",
       "      <td>2223</td>\n",
       "      <td>LOW</td>\n",
       "      <td>ACTIVE</td>\n",
       "    </tr>\n",
       "  </tbody>\n",
       "</table>\n",
       "<p>5 rows × 28 columns</p>\n",
       "</div>"
      ],
      "text/plain": [
       "      CIF              CUS_DOB  AGE  CUS_Month_Income CUS_Gender  \\\n",
       "0  XXXXXX  Feb 13 1970 12:00AM   49           7116.64       MALE   \n",
       "1  XXXXXX  Sep 20 1973 12:00AM   46        1500000.00     FEMALE   \n",
       "2  XXXXXX  Jul 18 1966 12:00AM   53        5000000.00     FEMALE   \n",
       "3  XXXXXX  Jan  9 2004 12:00AM   15            500.00     FEMALE   \n",
       "4  XXXXXX  Mar  7 1971 12:00AM   48        9000000.00     FEMALE   \n",
       "\n",
       "  CUS_Marital_Status CUS_Customer_Since  YEARS_WITH_US  \\\n",
       "0            MARRIED         1994-06-30             25   \n",
       "1             SINGLE         2005-05-19             14   \n",
       "2             SINGLE         2005-05-20             14   \n",
       "3             SINGLE         2005-05-20             14   \n",
       "4             SINGLE         2014-06-30              5   \n",
       "\n",
       "   # total debit transactions for S1  # total debit transactions for S2  ...  \\\n",
       "0                                277                                265  ...   \n",
       "1                                 37                                 15  ...   \n",
       "2                                 31                                 14  ...   \n",
       "3                                  0                                  1  ...   \n",
       "4                                 15                                 33  ...   \n",
       "\n",
       "   total credit amount for S2  total credit amount for S3  total debit amount  \\\n",
       "0                  1764079.61                  2378592.62          4758311.63   \n",
       "1                    19500.00                    57500.00           139363.22   \n",
       "2                   240311.84                    70946.86            37375.46   \n",
       "3                    28089.99                    18753.92             4000.00   \n",
       "4                   176000.00                    70500.00           338470.29   \n",
       "\n",
       "   total debit transactions  total credit amount  total credit transactions  \\\n",
       "0                       887           5659653.33                         65   \n",
       "1                        97             87000.00                         10   \n",
       "2                        53           1020883.70                         27   \n",
       "3                         1             76946.96                         12   \n",
       "4                        60            442100.00                         21   \n",
       "\n",
       "   total transactions  CUS_Target   TAR_Desc  Status  \n",
       "0                 952        2231  EXECUTIVE  ACTIVE  \n",
       "1                 107        2223        LOW  ACTIVE  \n",
       "2                  80        2222      MIDLE  ACTIVE  \n",
       "3                  13        2223        LOW  ACTIVE  \n",
       "4                  81        2223        LOW  ACTIVE  \n",
       "\n",
       "[5 rows x 28 columns]"
      ]
     },
     "execution_count": 3,
     "metadata": {},
     "output_type": "execute_result"
    }
   ],
   "source": [
    "customer = pd.read_excel('CHURNDATA.xlsx')\n",
    "customer.head()"
   ]
  },
  {
   "cell_type": "code",
   "execution_count": 4,
   "metadata": {},
   "outputs": [
    {
     "data": {
      "text/plain": [
       "CIF                                    0\n",
       "CUS_DOB                                0\n",
       "AGE                                    0\n",
       "CUS_Month_Income                      11\n",
       "CUS_Gender                             2\n",
       "CUS_Marital_Status                     0\n",
       "CUS_Customer_Since                     0\n",
       "YEARS_WITH_US                          0\n",
       "# total debit transactions for S1      0\n",
       "# total debit transactions for S2      0\n",
       "# total debit transactions for S3      0\n",
       "total debit amount for S1              0\n",
       "total debit amount for S2              0\n",
       "total debit amount for S3              0\n",
       "# total credit transactions for S1     0\n",
       "# total credit transactions for S2     0\n",
       "# total credit transactions for S3     0\n",
       "total credit amount for S1             0\n",
       "total credit amount for S2             0\n",
       "total credit amount for S3             0\n",
       "total debit amount                     0\n",
       "total debit transactions               0\n",
       "total credit amount                    0\n",
       "total credit transactions              0\n",
       "total transactions                     0\n",
       "CUS_Target                             0\n",
       "TAR_Desc                               0\n",
       "Status                                 0\n",
       "dtype: int64"
      ]
     },
     "execution_count": 4,
     "metadata": {},
     "output_type": "execute_result"
    }
   ],
   "source": [
    "customer.isnull().sum()"
   ]
  },
  {
   "cell_type": "code",
   "execution_count": 5,
   "metadata": {},
   "outputs": [],
   "source": [
    "customer = customer.drop(customer.index[[85,99,184,316,368,400,427,857,938,996,1047]])\n",
    "customer['CUS_Month_Income'] = pd.to_numeric(customer['CUS_Month_Income'])\n",
    "customer['CUS_Gender'] = customer['CUS_Gender'].fillna('FEMALE')"
   ]
  },
  {
   "cell_type": "code",
   "execution_count": 6,
   "metadata": {},
   "outputs": [],
   "source": [
    "customer['CUS_Month_Income'] = customer['CUS_Month_Income'].astype(int)\n",
    "del customer['CIF']\n",
    "del customer[\"CUS_DOB\"]\n",
    "del customer['CUS_Customer_Since']"
   ]
  },
  {
   "cell_type": "code",
   "execution_count": 7,
   "metadata": {},
   "outputs": [
    {
     "data": {
      "text/plain": [
       "Index(['AGE', 'CUS_Month_Income', 'CUS_Gender', 'CUS_Marital_Status',\n",
       "       'YEARS_WITH_US', '# total debit transactions for S1',\n",
       "       '# total debit transactions for S2',\n",
       "       '# total debit transactions for S3', 'total debit amount for S1',\n",
       "       'total debit amount for S2', 'total debit amount for S3',\n",
       "       '# total credit transactions for S1',\n",
       "       '# total credit transactions for S2',\n",
       "       '# total credit transactions for S3', 'total credit amount for S1',\n",
       "       'total credit amount for S2', 'total credit amount for S3',\n",
       "       'total debit amount', 'total debit transactions', 'total credit amount',\n",
       "       'total credit transactions', 'total transactions', 'CUS_Target',\n",
       "       'TAR_Desc', 'Status'],\n",
       "      dtype='object')"
      ]
     },
     "execution_count": 7,
     "metadata": {},
     "output_type": "execute_result"
    }
   ],
   "source": [
    "customer.columns"
   ]
  },
  {
   "cell_type": "code",
   "execution_count": 8,
   "metadata": {},
   "outputs": [],
   "source": [
    "churn = customer.copy()"
   ]
  },
  {
   "cell_type": "code",
   "execution_count": 9,
   "metadata": {},
   "outputs": [],
   "source": [
    "from sklearn.preprocessing import LabelEncoder\n",
    "status = LabelEncoder()\n",
    "churn['Status'] = status.fit_transform(churn['Status'])\n"
   ]
  },
  {
   "cell_type": "code",
   "execution_count": 10,
   "metadata": {},
   "outputs": [],
   "source": [
    "X = churn[['CUS_Month_Income',\n",
    "                  '# total debit transactions for S3', 'total debit amount for S3',\n",
    "                  '# total credit transactions for S3', 'total credit amount for S3',\n",
    "                  '# total debit transactions for S2', 'total debit amount for S2',\n",
    "                  '# total credit transactions for S2', 'total credit amount for S2',\n",
    "                  'total debit amount','total credit transactions','total transactions']]"
   ]
  },
  {
   "cell_type": "code",
   "execution_count": 11,
   "metadata": {},
   "outputs": [],
   "source": [
    "y = churn['Status']"
   ]
  },
  {
   "cell_type": "code",
   "execution_count": 12,
   "metadata": {},
   "outputs": [
    {
     "data": {
      "text/html": [
       "<div>\n",
       "<style scoped>\n",
       "    .dataframe tbody tr th:only-of-type {\n",
       "        vertical-align: middle;\n",
       "    }\n",
       "\n",
       "    .dataframe tbody tr th {\n",
       "        vertical-align: top;\n",
       "    }\n",
       "\n",
       "    .dataframe thead th {\n",
       "        text-align: right;\n",
       "    }\n",
       "</style>\n",
       "<table border=\"1\" class=\"dataframe\">\n",
       "  <thead>\n",
       "    <tr style=\"text-align: right;\">\n",
       "      <th></th>\n",
       "      <th>CUS_Month_Income</th>\n",
       "      <th># total debit transactions for S3</th>\n",
       "      <th>total debit amount for S3</th>\n",
       "      <th># total credit transactions for S3</th>\n",
       "      <th>total credit amount for S3</th>\n",
       "      <th># total debit transactions for S2</th>\n",
       "      <th>total debit amount for S2</th>\n",
       "      <th># total credit transactions for S2</th>\n",
       "      <th>total credit amount for S2</th>\n",
       "      <th>total debit amount</th>\n",
       "      <th>total credit transactions</th>\n",
       "      <th>total transactions</th>\n",
       "    </tr>\n",
       "  </thead>\n",
       "  <tbody>\n",
       "    <tr>\n",
       "      <th>0</th>\n",
       "      <td>7116</td>\n",
       "      <td>345</td>\n",
       "      <td>2068641.91</td>\n",
       "      <td>31</td>\n",
       "      <td>2378592.62</td>\n",
       "      <td>265</td>\n",
       "      <td>1230543.08</td>\n",
       "      <td>24</td>\n",
       "      <td>1764079.61</td>\n",
       "      <td>4758311.63</td>\n",
       "      <td>65</td>\n",
       "      <td>952</td>\n",
       "    </tr>\n",
       "    <tr>\n",
       "      <th>1</th>\n",
       "      <td>1500000</td>\n",
       "      <td>45</td>\n",
       "      <td>83856.67</td>\n",
       "      <td>4</td>\n",
       "      <td>57500.00</td>\n",
       "      <td>15</td>\n",
       "      <td>20134.00</td>\n",
       "      <td>4</td>\n",
       "      <td>19500.00</td>\n",
       "      <td>139363.22</td>\n",
       "      <td>10</td>\n",
       "      <td>107</td>\n",
       "    </tr>\n",
       "    <tr>\n",
       "      <th>2</th>\n",
       "      <td>5000000</td>\n",
       "      <td>8</td>\n",
       "      <td>4348.95</td>\n",
       "      <td>5</td>\n",
       "      <td>70946.86</td>\n",
       "      <td>14</td>\n",
       "      <td>4777.66</td>\n",
       "      <td>8</td>\n",
       "      <td>240311.84</td>\n",
       "      <td>37375.46</td>\n",
       "      <td>27</td>\n",
       "      <td>80</td>\n",
       "    </tr>\n",
       "    <tr>\n",
       "      <th>3</th>\n",
       "      <td>500</td>\n",
       "      <td>0</td>\n",
       "      <td>0.00</td>\n",
       "      <td>3</td>\n",
       "      <td>18753.92</td>\n",
       "      <td>1</td>\n",
       "      <td>4000.00</td>\n",
       "      <td>4</td>\n",
       "      <td>28089.99</td>\n",
       "      <td>4000.00</td>\n",
       "      <td>12</td>\n",
       "      <td>13</td>\n",
       "    </tr>\n",
       "    <tr>\n",
       "      <th>4</th>\n",
       "      <td>9000000</td>\n",
       "      <td>12</td>\n",
       "      <td>46379.40</td>\n",
       "      <td>6</td>\n",
       "      <td>70500.00</td>\n",
       "      <td>33</td>\n",
       "      <td>223007.51</td>\n",
       "      <td>7</td>\n",
       "      <td>176000.00</td>\n",
       "      <td>338470.29</td>\n",
       "      <td>21</td>\n",
       "      <td>81</td>\n",
       "    </tr>\n",
       "  </tbody>\n",
       "</table>\n",
       "</div>"
      ],
      "text/plain": [
       "   CUS_Month_Income  # total debit transactions for S3  \\\n",
       "0              7116                                345   \n",
       "1           1500000                                 45   \n",
       "2           5000000                                  8   \n",
       "3               500                                  0   \n",
       "4           9000000                                 12   \n",
       "\n",
       "   total debit amount for S3  # total credit transactions for S3  \\\n",
       "0                 2068641.91                                  31   \n",
       "1                   83856.67                                   4   \n",
       "2                    4348.95                                   5   \n",
       "3                       0.00                                   3   \n",
       "4                   46379.40                                   6   \n",
       "\n",
       "   total credit amount for S3  # total debit transactions for S2  \\\n",
       "0                  2378592.62                                265   \n",
       "1                    57500.00                                 15   \n",
       "2                    70946.86                                 14   \n",
       "3                    18753.92                                  1   \n",
       "4                    70500.00                                 33   \n",
       "\n",
       "   total debit amount for S2  # total credit transactions for S2  \\\n",
       "0                 1230543.08                                  24   \n",
       "1                   20134.00                                   4   \n",
       "2                    4777.66                                   8   \n",
       "3                    4000.00                                   4   \n",
       "4                  223007.51                                   7   \n",
       "\n",
       "   total credit amount for S2  total debit amount  total credit transactions  \\\n",
       "0                  1764079.61          4758311.63                         65   \n",
       "1                    19500.00           139363.22                         10   \n",
       "2                   240311.84            37375.46                         27   \n",
       "3                    28089.99             4000.00                         12   \n",
       "4                   176000.00           338470.29                         21   \n",
       "\n",
       "   total transactions  \n",
       "0                 952  \n",
       "1                 107  \n",
       "2                  80  \n",
       "3                  13  \n",
       "4                  81  "
      ]
     },
     "execution_count": 12,
     "metadata": {},
     "output_type": "execute_result"
    }
   ],
   "source": [
    "X.head()"
   ]
  },
  {
   "cell_type": "code",
   "execution_count": 13,
   "metadata": {},
   "outputs": [
    {
     "data": {
      "text/plain": [
       "0    0\n",
       "1    0\n",
       "2    0\n",
       "3    0\n",
       "4    0\n",
       "Name: Status, dtype: int32"
      ]
     },
     "execution_count": 13,
     "metadata": {},
     "output_type": "execute_result"
    }
   ],
   "source": [
    "y.head()"
   ]
  },
  {
   "cell_type": "code",
   "execution_count": 14,
   "metadata": {},
   "outputs": [
    {
     "data": {
      "text/plain": [
       "((1940, 12), (1940,))"
      ]
     },
     "execution_count": 14,
     "metadata": {},
     "output_type": "execute_result"
    }
   ],
   "source": [
    "from imblearn.combine import SMOTETomek\n",
    "smk = SMOTETomek(random_state=1234)\n",
    "X_res, y_res = smk.fit_resample(X,y)\n",
    "X_res.shape, y_res.shape"
   ]
  },
  {
   "cell_type": "code",
   "execution_count": 15,
   "metadata": {},
   "outputs": [
    {
     "name": "stdout",
     "output_type": "stream",
     "text": [
      "Original dataset shape {} Counter({0: 1015, 1: 223})\n",
      "resampled dataset shape {} Counter({0: 970, 1: 970})\n"
     ]
    }
   ],
   "source": [
    "from collections import Counter\n",
    "print('Original dataset shape {}', format(Counter(y)))\n",
    "print('resampled dataset shape {}', format(Counter(y_res)))"
   ]
  },
  {
   "cell_type": "code",
   "execution_count": 16,
   "metadata": {},
   "outputs": [],
   "source": [
    "from sklearn.model_selection import train_test_split\n",
    "X_train, X_test, y_train, y_test = train_test_split(X_res, y_res,train_size=0.8)"
   ]
  },
  {
   "cell_type": "code",
   "execution_count": 17,
   "metadata": {},
   "outputs": [
    {
     "name": "stdout",
     "output_type": "stream",
     "text": [
      "(1552, 12)\n",
      "(1552,)\n",
      "(388, 12)\n",
      "(388,)\n"
     ]
    }
   ],
   "source": [
    "print(X_train.shape)\n",
    "print(y_train.shape)\n",
    "print(X_test.shape)\n",
    "print(y_test.shape)"
   ]
  },
  {
   "cell_type": "code",
   "execution_count": 18,
   "metadata": {},
   "outputs": [],
   "source": [
    "from sklearn.ensemble import GradientBoostingClassifier\n",
    "model_gb = GradientBoostingClassifier(learning_rate=0.02, n_estimators=225, max_depth=7,min_samples_leaf=2,warm_start=True,\n",
    "                                      min_samples_split=3,max_features='sqrt',random_state=1234, loss='exponential')"
   ]
  },
  {
   "cell_type": "code",
   "execution_count": 19,
   "metadata": {},
   "outputs": [
    {
     "data": {
      "text/plain": [
       "GradientBoostingClassifier(learning_rate=0.02, loss='exponential', max_depth=7,\n",
       "                           max_features='sqrt', min_samples_leaf=2,\n",
       "                           min_samples_split=3, n_estimators=225,\n",
       "                           random_state=1234, warm_start=True)"
      ]
     },
     "execution_count": 19,
     "metadata": {},
     "output_type": "execute_result"
    }
   ],
   "source": [
    "model_gb.fit(X_train,y_train)"
   ]
  },
  {
   "cell_type": "code",
   "execution_count": 20,
   "metadata": {},
   "outputs": [
    {
     "data": {
      "text/plain": [
       "array([1, 1, 1, 0, 0, 1, 1, 1, 0, 0, 1, 0, 0, 1, 1, 1, 0, 0, 0, 1, 1, 0,\n",
       "       1, 1, 0, 0, 0, 0, 1, 1, 1, 0, 0, 1, 1, 0, 1, 0, 1, 0, 0, 0, 1, 0,\n",
       "       1, 0, 1, 0, 0, 1, 0, 0, 1, 0, 0, 0, 0, 0, 1, 1, 0, 1, 1, 1, 1, 0,\n",
       "       0, 1, 0, 1, 1, 1, 0, 0, 0, 1, 1, 0, 1, 1, 0, 1, 0, 1, 0, 1, 0, 1,\n",
       "       1, 1, 1, 1, 1, 1, 1, 1, 0, 0, 1, 1, 0, 1, 1, 0, 0, 1, 0, 0, 1, 1,\n",
       "       1, 0, 1, 1, 1, 1, 0, 1, 1, 0, 1, 1, 0, 1, 0, 0, 1, 0, 1, 1, 0, 0,\n",
       "       1, 0, 1, 1, 1, 1, 1, 0, 1, 0, 0, 0, 1, 1, 1, 0, 1, 1, 1, 1, 1, 0,\n",
       "       0, 0, 0, 0, 0, 0, 1, 0, 0, 1, 1, 1, 0, 1, 0, 0, 1, 0, 0, 0, 0, 1,\n",
       "       1, 1, 0, 0, 1, 1, 0, 0, 0, 1, 0, 1, 0, 1, 1, 1, 1, 1, 0, 0, 1, 0,\n",
       "       0, 1, 1, 0, 1, 1, 0, 0, 1, 0, 1, 0, 1, 1, 0, 0, 0, 1, 0, 1, 1, 0,\n",
       "       1, 1, 1, 1, 0, 1, 1, 1, 1, 1, 1, 0, 1, 0, 0, 0, 0, 1, 0, 0, 1, 1,\n",
       "       1, 1, 0, 1, 1, 1, 0, 1, 0, 0, 0, 1, 0, 1, 1, 1, 1, 0, 1, 0, 0, 1,\n",
       "       1, 1, 1, 1, 0, 0, 1, 0, 0, 1, 0, 0, 1, 1, 1, 0, 1, 0, 0, 1, 1, 1,\n",
       "       1, 1, 0, 0, 0, 1, 0, 1, 1, 1, 0, 1, 1, 1, 1, 1, 1, 0, 0, 1, 1, 0,\n",
       "       1, 1, 1, 0, 0, 0, 1, 0, 1, 0, 0, 0, 0, 0, 0, 0, 1, 0, 1, 1, 1, 0,\n",
       "       0, 1, 1, 0, 0, 1, 0, 0, 0, 1, 0, 0, 1, 0, 0, 0, 0, 0, 1, 0, 1, 0,\n",
       "       0, 0, 0, 0, 1, 0, 0, 1, 0, 1, 0, 1, 1, 1, 1, 1, 0, 1, 1, 0, 0, 0,\n",
       "       0, 1, 0, 0, 1, 0, 1, 0, 0, 0, 0, 0, 1, 1])"
      ]
     },
     "execution_count": 20,
     "metadata": {},
     "output_type": "execute_result"
    }
   ],
   "source": [
    "y_pred = model_gb.predict(X_test)\n",
    "y_pred"
   ]
  },
  {
   "cell_type": "code",
   "execution_count": 21,
   "metadata": {},
   "outputs": [
    {
     "data": {
      "text/plain": [
       "0.9864690721649485"
      ]
     },
     "execution_count": 21,
     "metadata": {},
     "output_type": "execute_result"
    }
   ],
   "source": [
    "model_gb.score(X_train,y_train)"
   ]
  },
  {
   "cell_type": "code",
   "execution_count": 22,
   "metadata": {},
   "outputs": [
    {
     "data": {
      "text/plain": [
       "0.904639175257732"
      ]
     },
     "execution_count": 22,
     "metadata": {},
     "output_type": "execute_result"
    }
   ],
   "source": [
    "from sklearn.metrics import accuracy_score\n",
    "accuracy_score(y_test, y_pred)"
   ]
  },
  {
   "cell_type": "code",
   "execution_count": 23,
   "metadata": {},
   "outputs": [
    {
     "name": "stdout",
     "output_type": "stream",
     "text": [
      "[[177  28]\n",
      " [  9 174]]\n"
     ]
    }
   ],
   "source": [
    "from sklearn import metrics\n",
    "print(metrics.confusion_matrix(y_test,y_pred))"
   ]
  },
  {
   "cell_type": "code",
   "execution_count": 24,
   "metadata": {},
   "outputs": [
    {
     "name": "stdout",
     "output_type": "stream",
     "text": [
      "              precision    recall  f1-score   support\n",
      "\n",
      "           0       0.95      0.86      0.91       205\n",
      "           1       0.86      0.95      0.90       183\n",
      "\n",
      "    accuracy                           0.90       388\n",
      "   macro avg       0.91      0.91      0.90       388\n",
      "weighted avg       0.91      0.90      0.90       388\n",
      "\n"
     ]
    }
   ],
   "source": [
    "print(metrics.classification_report(y_test,y_pred))"
   ]
  },
  {
   "cell_type": "code",
   "execution_count": 25,
   "metadata": {},
   "outputs": [
    {
     "name": "stdout",
     "output_type": "stream",
     "text": [
      "[0]\n"
     ]
    }
   ],
   "source": [
    "import pickle\n",
    "\n",
    "savefile = open(\"C:/Users/ComProWorld/Desktop/b7/Churn Customer Classification Project/Churn Project Deployment/Model_Gb.pickle\", \"wb\")\n",
    "pickle.dump(model_gb, savefile)\n",
    "savefile.close()\n",
    "readfile = open(\"Model_Gb.pickle\", \"rb\")\n",
    "model = pickle.load(readfile)\n",
    "readfile.close()\n",
    "\n",
    "print(model.predict([[45000,220,40000,120,50000,330,60000,120,80000,150000,620,800]]))"
   ]
  },
  {
   "cell_type": "code",
   "execution_count": null,
   "metadata": {},
   "outputs": [],
   "source": []
  }
 ],
 "metadata": {
  "kernelspec": {
   "display_name": "Python 3",
   "language": "python",
   "name": "python3"
  },
  "language_info": {
   "codemirror_mode": {
    "name": "ipython",
    "version": 3
   },
   "file_extension": ".py",
   "mimetype": "text/x-python",
   "name": "python",
   "nbconvert_exporter": "python",
   "pygments_lexer": "ipython3",
   "version": "3.8.5"
  }
 },
 "nbformat": 4,
 "nbformat_minor": 4
}
